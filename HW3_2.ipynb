{
  "nbformat": 4,
  "nbformat_minor": 0,
  "metadata": {
    "colab": {
      "provenance": [],
      "authorship_tag": "ABX9TyNHEBpO57daQZH9P6tYcWOx",
      "include_colab_link": true
    },
    "kernelspec": {
      "name": "python3",
      "display_name": "Python 3"
    },
    "language_info": {
      "name": "python"
    }
  },
  "cells": [
    {
      "cell_type": "markdown",
      "metadata": {
        "id": "view-in-github",
        "colab_type": "text"
      },
      "source": [
        "<a href=\"https://colab.research.google.com/github/zzou19/mat494/blob/main/HW3_2.ipynb\" target=\"_parent\"><img src=\"https://colab.research.google.com/assets/colab-badge.svg\" alt=\"Open In Colab\"/></a>"
      ]
    },
    {
      "cell_type": "code",
      "execution_count": 1,
      "metadata": {
        "colab": {
          "base_uri": "https://localhost:8080/"
        },
        "id": "jw2GOpzVljCg",
        "outputId": "a0dda652-7688-4a00-a466-3ad474d9e964"
      },
      "outputs": [
        {
          "output_type": "stream",
          "name": "stdout",
          "text": [
            "1\n",
            "E\n"
          ]
        }
      ],
      "source": [
        "import sympy as sym\n",
        "\n",
        "# pythonic math expressions: add spaces, use single quotes and lowercases\n",
        "# declaring variables\n",
        "x, y, z, a, b, c = sym.symbols('x, y, z, a, b, c')\n",
        "\n",
        "f = sym.sin(x) / x\n",
        "print(sym.limit(f, x, 0))\n",
        "\n",
        "n = sym.symbols('n')\n",
        "print(sym.limit(((n + 3) / (n + 2)) ** n, n, sym.oo)) # oo is mathematical infinity"
      ]
    },
    {
      "cell_type": "code",
      "source": [
        "# declaring variables\n",
        "x, y, z, a, b, c = sym.symbols('x, y, z, a, b, c')\n",
        "\n",
        "# we take the derivative using diff\n",
        "# diff (function, independent variable, number of derivatives)\n",
        "\n",
        "exp1 = sym.diff(sym.sin(2 * x), x) \n",
        "print('1st derivative w.r.t x: ', exp1) \n",
        "\n",
        "exp2 = sym.diff(sym.sin(2*x), x, 2) \n",
        "print('2nd derivative w.r.t x: ', exp2) \n",
        "\n",
        "exp3 = sym.diff(sym.sin(2*x), x, 3)\n",
        "print('3rd derivative w.r.t x: ', exp3) \n",
        "\n",
        "exp4 = sym.diff(sym.sin(x*y), x, 2, y, 3) \n",
        "print('\\n', exp4) "
      ],
      "metadata": {
        "colab": {
          "base_uri": "https://localhost:8080/"
        },
        "id": "O1uwOoWElo-d",
        "outputId": "c0086a99-41fc-4be7-9518-595cbb0ac01e"
      },
      "execution_count": 2,
      "outputs": [
        {
          "output_type": "stream",
          "name": "stdout",
          "text": [
            "1st derivative w.r.t x:  2*cos(2*x)\n",
            "2nd derivative w.r.t x:  -4*sin(2*x)\n",
            "3rd derivative w.r.t x:  -8*cos(2*x)\n",
            "\n",
            " x*(x**2*y**2*cos(x*y) + 6*x*y*sin(x*y) - 6*cos(x*y))\n"
          ]
        }
      ]
    },
    {
      "cell_type": "code",
      "source": [
        "# notice the difference of the output format\n",
        "sym.diff(sym.exp(-x) * sym.cos(3 - x))\n"
      ],
      "metadata": {
        "colab": {
          "base_uri": "https://localhost:8080/",
          "height": 39
        },
        "id": "xIz0cp8_lxq7",
        "outputId": "2c6b460d-13ab-47b1-c69d-9025534db250"
      },
      "execution_count": 3,
      "outputs": [
        {
          "output_type": "execute_result",
          "data": {
            "text/plain": [
              "-exp(-x)*sin(x - 3) - exp(-x)*cos(x - 3)"
            ],
            "text/latex": "$\\displaystyle - e^{- x} \\sin{\\left(x - 3 \\right)} - e^{- x} \\cos{\\left(x - 3 \\right)}$"
          },
          "metadata": {},
          "execution_count": 3
        }
      ]
    }
  ]
}