{
  "nbformat": 4,
  "nbformat_minor": 0,
  "metadata": {
    "colab": {
      "name": "Untitled0.ipynb",
      "provenance": [],
      "collapsed_sections": [],
      "authorship_tag": "ABX9TyNbnLSBJ+WI7CIp5JfuCD2n",
      "include_colab_link": true
    },
    "kernelspec": {
      "name": "python3",
      "display_name": "Python 3"
    },
    "language_info": {
      "name": "python"
    }
  },
  "cells": [
    {
      "cell_type": "markdown",
      "metadata": {
        "id": "view-in-github",
        "colab_type": "text"
      },
      "source": [
        "<a href=\"https://colab.research.google.com/github/zzou19/mat494/blob/main/Untitled0.ipynb\" target=\"_parent\"><img src=\"https://colab.research.google.com/assets/colab-badge.svg\" alt=\"Open In Colab\"/></a>"
      ]
    },
    {
      "cell_type": "code",
      "execution_count": 1,
      "metadata": {
        "id": "k_cYeOSpO-XO",
        "colab": {
          "base_uri": "https://localhost:8080/"
        },
        "outputId": "20360fe0-6fbb-499d-b80c-b002f5c531ef"
      },
      "outputs": [
        {
          "output_type": "stream",
          "name": "stdout",
          "text": [
            "[0 1 2 3 4 5 6 7 8 9]\n"
          ]
        }
      ],
      "source": [
        "import numpy as np\n",
        "a = np.arange(10)\n",
        "print(a)"
      ]
    },
    {
      "cell_type": "markdown",
      "source": [
        "[0 1 2 3 4 5 6 7 8 9]"
      ],
      "metadata": {
        "id": "hYQ7Ew3gPDjA"
      }
    },
    {
      "cell_type": "code",
      "source": [
        "# mix integer and slice index\n",
        "a = np.array([[1,2,3,4], [5,6,7,8], [9,10,11,12]])\n",
        "print(a)\n",
        "b = a[1, :]\n",
        "print(b)"
      ],
      "metadata": {
        "id": "-kL2UsKjPH8h",
        "colab": {
          "base_uri": "https://localhost:8080/"
        },
        "outputId": "cb6ba6bd-8550-48a0-8e07-e7a1a851e7fd"
      },
      "execution_count": 2,
      "outputs": [
        {
          "output_type": "stream",
          "name": "stdout",
          "text": [
            "[[ 1  2  3  4]\n",
            " [ 5  6  7  8]\n",
            " [ 9 10 11 12]]\n",
            "[5 6 7 8]\n"
          ]
        }
      ]
    },
    {
      "cell_type": "markdown",
      "source": [
        "[[ 1  2  3  4]\n",
        " [ 5  6  7  8]\n",
        " [ 9 10 11 12]]\n",
        "[5 6 7 8]"
      ],
      "metadata": {
        "id": "oOPULUW2PfC4"
      }
    },
    {
      "cell_type": "code",
      "source": [
        "a=np.array(([1,1],[1,1]))\n",
        "print(a)\n",
        "print(a.dtype)"
      ],
      "metadata": {
        "id": "tGz7c90RPjKa",
        "colab": {
          "base_uri": "https://localhost:8080/"
        },
        "outputId": "d40dbb60-6f81-44ac-c24f-0d89cbac0761"
      },
      "execution_count": 3,
      "outputs": [
        {
          "output_type": "stream",
          "name": "stdout",
          "text": [
            "[[1 1]\n",
            " [1 1]]\n",
            "int64\n"
          ]
        }
      ]
    },
    {
      "cell_type": "markdown",
      "source": [
        "[[1 1]\n",
        " [1 1]]\n",
        "int64"
      ],
      "metadata": {
        "id": "lqnYAVLpPkK_"
      }
    }
  ]
}