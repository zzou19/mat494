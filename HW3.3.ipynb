{
  "nbformat": 4,
  "nbformat_minor": 0,
  "metadata": {
    "colab": {
      "provenance": [],
      "authorship_tag": "ABX9TyNhD9uiCDL5RTkl4tsD2mTt",
      "include_colab_link": true
    },
    "kernelspec": {
      "name": "python3",
      "display_name": "Python 3"
    },
    "language_info": {
      "name": "python"
    }
  },
  "cells": [
    {
      "cell_type": "markdown",
      "metadata": {
        "id": "view-in-github",
        "colab_type": "text"
      },
      "source": [
        "<a href=\"https://colab.research.google.com/github/zzou19/mat494/blob/main/HW3.3.ipynb\" target=\"_parent\"><img src=\"https://colab.research.google.com/assets/colab-badge.svg\" alt=\"Open In Colab\"/></a>"
      ]
    },
    {
      "cell_type": "code",
      "execution_count": 1,
      "metadata": {
        "colab": {
          "base_uri": "https://localhost:8080/"
        },
        "id": "-scspSh8YZCx",
        "outputId": "3efd8c11-fa8c-4a6c-f248-149c5df3fcfc"
      },
      "outputs": [
        {
          "output_type": "stream",
          "name": "stdout",
          "text": [
            "Optimization terminated successfully.\n",
            "         Current function value: 0.000000\n",
            "         Iterations: 339\n",
            "         Function evaluations: 571\n"
          ]
        }
      ],
      "source": [
        "import numpy as np\n",
        "from scipy.optimize import minimize\n",
        "def rosen(x):\n",
        "    \"\"\"The Rosenbrock function\"\"\"\n",
        "    return sum(100.0*(x[1:]-x[:-1]**2.0)**2.0 + (1-x[:-1])**2.0)\n",
        "x0 = np.array([1.3, 0.7, 0.8, 1.9, 1.2])\n",
        "res = minimize(rosen, x0, method='nelder-mead',\n",
        "               options={'xatol': 1e-8, 'disp': True})"
      ]
    },
    {
      "cell_type": "code",
      "source": [
        "print(res.x)"
      ],
      "metadata": {
        "colab": {
          "base_uri": "https://localhost:8080/"
        },
        "id": "it2pUrvNYlzr",
        "outputId": "1c975552-c1df-453a-cf44-9b8cbc129b68"
      },
      "execution_count": 2,
      "outputs": [
        {
          "output_type": "stream",
          "name": "stdout",
          "text": [
            "[1. 1. 1. 1. 1.]\n"
          ]
        }
      ]
    },
    {
      "cell_type": "code",
      "source": [
        "def rosen_der(x):\n",
        "    xm = x[1:-1]\n",
        "    xm_m1 = x[:-2]\n",
        "    xm_p1 = x[2:]\n",
        "    der = np.zeros_like(x)\n",
        "    der[1:-1] = 200*(xm-xm_m1**2) - 400*(xm_p1 - xm**2)*xm - 2*(1-xm)\n",
        "    der[0] = -400*x[0]*(x[1]-x[0]**2) - 2*(1-x[0])\n",
        "    der[-1] = 200*(x[-1]-x[-2]**2)\n",
        "    return der\n"
      ],
      "metadata": {
        "id": "CPIlxzypYn57"
      },
      "execution_count": 3,
      "outputs": []
    },
    {
      "cell_type": "code",
      "source": [
        "res = minimize(rosen, x0, method='BFGS', jac=rosen_der,\n",
        "               options={'disp': True})"
      ],
      "metadata": {
        "colab": {
          "base_uri": "https://localhost:8080/"
        },
        "id": "ORoi68TnYq0k",
        "outputId": "1ec59e2c-1151-4472-b8dd-4d5a8daf486b"
      },
      "execution_count": 4,
      "outputs": [
        {
          "output_type": "stream",
          "name": "stdout",
          "text": [
            "Optimization terminated successfully.\n",
            "         Current function value: 0.000000\n",
            "         Iterations: 25\n",
            "         Function evaluations: 30\n",
            "         Gradient evaluations: 30\n"
          ]
        }
      ]
    },
    {
      "cell_type": "code",
      "source": [
        "res.x"
      ],
      "metadata": {
        "colab": {
          "base_uri": "https://localhost:8080/"
        },
        "id": "HJsvaAfyYtG6",
        "outputId": "19907b9c-bf31-4a20-8e35-f5060ed69e8c"
      },
      "execution_count": 5,
      "outputs": [
        {
          "output_type": "execute_result",
          "data": {
            "text/plain": [
              "array([1.00000004, 1.0000001 , 1.00000021, 1.00000044, 1.00000092])"
            ]
          },
          "metadata": {},
          "execution_count": 5
        }
      ]
    },
    {
      "cell_type": "code",
      "source": [
        "def rosen_hess(x):\n",
        "    x = np.asarray(x)\n",
        "    H = np.diag(-400*x[:-1],1) - np.diag(400*x[:-1],-1)\n",
        "    diagonal = np.zeros_like(x)\n",
        "    diagonal[0] = 1200*x[0]**2-400*x[1]+2\n",
        "    diagonal[-1] = 200\n",
        "    diagonal[1:-1] = 202 + 1200*x[1:-1]**2 - 400*x[2:]\n",
        "    H = H + np.diag(diagonal)\n",
        "    return H"
      ],
      "metadata": {
        "id": "mLMDbUIDYvQ1"
      },
      "execution_count": 7,
      "outputs": []
    },
    {
      "cell_type": "code",
      "source": [
        "res = minimize(rosen, x0, method='Newton-CG',\n",
        "               jac=rosen_der, hess=rosen_hess,\n",
        "               options={'xtol': 1e-8, 'disp': True})"
      ],
      "metadata": {
        "colab": {
          "base_uri": "https://localhost:8080/"
        },
        "id": "_T9AVS2nYxef",
        "outputId": "2eb4ef04-9d0f-4787-ef1b-85d284cfc4a4"
      },
      "execution_count": 8,
      "outputs": [
        {
          "output_type": "stream",
          "name": "stdout",
          "text": [
            "Optimization terminated successfully.\n",
            "         Current function value: 0.000000\n",
            "         Iterations: 24\n",
            "         Function evaluations: 33\n",
            "         Gradient evaluations: 33\n",
            "         Hessian evaluations: 24\n"
          ]
        }
      ]
    },
    {
      "cell_type": "code",
      "source": [
        "res.x"
      ],
      "metadata": {
        "colab": {
          "base_uri": "https://localhost:8080/"
        },
        "id": "thUUmFo2Yzx6",
        "outputId": "beb982a7-5139-4924-900b-b914005af74d"
      },
      "execution_count": 9,
      "outputs": [
        {
          "output_type": "execute_result",
          "data": {
            "text/plain": [
              "array([1.        , 1.        , 1.        , 0.99999999, 0.99999999])"
            ]
          },
          "metadata": {},
          "execution_count": 9
        }
      ]
    }
  ]
}