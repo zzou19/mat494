{
  "nbformat": 4,
  "nbformat_minor": 0,
  "metadata": {
    "colab": {
      "provenance": [],
      "authorship_tag": "ABX9TyNN0TDB9C3twnYqznmObgil",
      "include_colab_link": true
    },
    "kernelspec": {
      "name": "python3",
      "display_name": "Python 3"
    },
    "language_info": {
      "name": "python"
    }
  },
  "cells": [
    {
      "cell_type": "markdown",
      "metadata": {
        "id": "view-in-github",
        "colab_type": "text"
      },
      "source": [
        "<a href=\"https://colab.research.google.com/github/zzou19/mat494/blob/main/HW4_1.ipynb\" target=\"_parent\"><img src=\"https://colab.research.google.com/assets/colab-badge.svg\" alt=\"Open In Colab\"/></a>"
      ]
    },
    {
      "cell_type": "code",
      "execution_count": 1,
      "metadata": {
        "id": "eyctOOl1tj1B"
      },
      "outputs": [],
      "source": [
        "def get_laplacian(self, sims, ids, alpha=0.99):\n",
        "        \"\"\"Get Laplacian_alpha matrix\n",
        "        \"\"\"\n",
        "        affinity = self.get_affinity(sims, ids)\n",
        "        num = affinity.shape[0]\n",
        "        degrees = affinity @ np.ones(num) + 1e-12\n",
        "        # mat: degree matrix ^ (-1/2)\n",
        "        mat = sparse.dia_matrix(\n",
        "            (degrees ** (-0.5), [0]), shape=(num, num), dtype=np.float32)\n",
        "        stochastic = mat @ affinity @ mat\n",
        "        sparse_eye = sparse.dia_matrix(\n",
        "            (np.ones(num), [0]), shape=(num, num), dtype=np.float32)\n",
        "        lap_alpha = sparse_eye - alpha * stochastic\n",
        "        return lap_alpha"
      ]
    },
    {
      "cell_type": "code",
      "source": [
        "def get_laplacian(self, sims, ids, alpha=0.99):\n",
        "        \"\"\"Get Laplacian_alpha matrix\n",
        "        \"\"\"\n",
        "        logger.info('get_affinity')\n",
        "        affinity = self.get_affinity(sims, ids)\n",
        "        logger.info('get_affinity ... done')\n",
        "        num = affinity.shape[0]\n",
        "        degrees = affinity @ np.ones(num) + 1e-12\n",
        "        # mat: degree matrix ^ (-1/2)\n",
        "        mat = sparse.dia_matrix(\n",
        "            (degrees ** (-0.5), [0]), shape=(num, num), dtype=np.float32)\n",
        "        logger.info('calc stochastic = mat @ affinity @ mat')\n",
        "        stochastic = mat @ affinity @ mat\n",
        "        sparse_eye = sparse.dia_matrix(\n",
        "            (np.ones(num), [0]), shape=(num, num), dtype=np.float32)\n",
        "        lap_alpha = sparse_eye - alpha * stochastic\n",
        "        return lap_alpha"
      ],
      "metadata": {
        "id": "rvkbcK4ExqsA"
      },
      "execution_count": 2,
      "outputs": []
    },
    {
      "cell_type": "code",
      "source": [
        "def get_laplacian(self, adj_matrix, normalize=True):\n",
        "        \"\"\"Compute pairwise distance of a point cloud.\n",
        "\n",
        "        Args:\n",
        "            pairwise distance: tensor (batch_size, num_points, num_points)\n",
        "\n",
        "        Returns:\n",
        "            pairwise distance: (batch_size, num_points, num_points)\n",
        "        \"\"\"\n",
        "        if normalize:\n",
        "            D = tf.reduce_sum(adj_matrix, axis=1)  # (batch_size,num_points)\n",
        "            eye = tf.ones_like(D)\n",
        "            eye = tf.matrix_diag(eye)\n",
        "            D = 1 / tf.sqrt(D)\n",
        "            D = tf.matrix_diag(D)\n",
        "            L = eye - tf.matmul(tf.matmul(D, adj_matrix), D)\n",
        "        else:\n",
        "            D = tf.reduce_sum(adj_matrix, axis=1)  # (batch_size,num_points)\n",
        "            # eye = tf.ones_like(D)\n",
        "            # eye = tf.matrix_diag(eye)\n",
        "            # D = 1 / tf.sqrt(D)\n",
        "            D = tf.matrix_diag(D)\n",
        "            L = D - adj_matrix\n",
        "        return L"
      ],
      "metadata": {
        "id": "njsHCzzhxtLP"
      },
      "execution_count": 3,
      "outputs": []
    },
    {
      "cell_type": "code",
      "source": [
        "import numpy as np\n",
        "from scipy import sparse\n",
        "from sklearn.datasets import make_moons\n",
        "from sklearn.neighbors import kneighbors_graph\n",
        "from sklearn.cluster import KMeans\n",
        "from sklearn.metrics import homogeneity_score, completeness_score,v_measure_score\n",
        "import networkx as nx\n",
        "import matplotlib.pyplot as plt\n",
        "random_state = 213\n",
        "np.random.seed(random_state)\n",
        "data_size = 150\n",
        "features,y = make_moons(n_samples=data_size, noise=0.07, random_state=213)"
      ],
      "metadata": {
        "id": "UnoIgL3NxwK7"
      },
      "execution_count": 4,
      "outputs": []
    },
    {
      "cell_type": "code",
      "source": [
        "n_neighbors = 10\n",
        "knn_dist_graph = kneighbors_graph(X=features,\n",
        "                                 n_neighbors=n_neighbors,\n",
        "                                 mode='distance',\n",
        "                                 metric='euclidean',\n",
        "                                 n_jobs=6)"
      ],
      "metadata": {
        "id": "qiesPP72x0M4"
      },
      "execution_count": 5,
      "outputs": []
    },
    {
      "cell_type": "code",
      "source": [
        "knn_dist_graph.todense()[0][:,:50]"
      ],
      "metadata": {
        "id": "Xo0Uj21ix2Dy"
      },
      "execution_count": null,
      "outputs": []
    },
    {
      "cell_type": "code",
      "source": [
        "sigma = 1\n",
        "similarity_graph = sparse.csr_matrix(knn_dist_graph.shape)\n",
        "nonzeroindices = knn_dist_graph.nonzero()\n",
        "similarity_graph[nonzeroindices] = np.exp( -np.asarray(knn_dist_graph[nonzeroindices])**2 / 2.0 * sigma**2)\n",
        "similarity_graph = 0.5 * (similarity_graph + similarity_graph.T)\n",
        "similarity_graph.todense()[0][:,:50]"
      ],
      "metadata": {
        "colab": {
          "base_uri": "https://localhost:8080/"
        },
        "id": "txb3iNQTx4FV",
        "outputId": "d9f36c5d-ed86-4a5f-9fdd-7c5b26719fe0"
      },
      "execution_count": 6,
      "outputs": [
        {
          "output_type": "stream",
          "name": "stderr",
          "text": [
            "/usr/local/lib/python3.7/dist-packages/scipy/sparse/_index.py:125: SparseEfficiencyWarning: Changing the sparsity structure of a csr_matrix is expensive. lil_matrix is more efficient.\n",
            "  self._set_arrayXarray(i, j, x)\n"
          ]
        },
        {
          "output_type": "execute_result",
          "data": {
            "text/plain": [
              "matrix([[0.        , 0.        , 0.99736371, 0.        , 0.        ,\n",
              "         0.        , 0.        , 0.        , 0.        , 0.        ,\n",
              "         0.        , 0.        , 0.        , 0.        , 0.        ,\n",
              "         0.        , 0.        , 0.        , 0.98128411, 0.        ,\n",
              "         0.        , 0.        , 0.98821653, 0.        , 0.        ,\n",
              "         0.        , 0.        , 0.        , 0.        , 0.        ,\n",
              "         0.        , 0.        , 0.        , 0.        , 0.        ,\n",
              "         0.        , 0.        , 0.        , 0.        , 0.        ,\n",
              "         0.        , 0.        , 0.99757408, 0.        , 0.        ,\n",
              "         0.        , 0.        , 0.        , 0.        , 0.        ]])"
            ]
          },
          "metadata": {},
          "execution_count": 6
        }
      ]
    },
    {
      "cell_type": "code",
      "source": [
        "degree_matrix = similarity_graph.sum(axis=1)\n",
        "diagonal_matrix = 0\n",
        "np.diag(np.asarray(degree_matrix).reshape(data_size,))\n",
        "L =  diagonal_matrix - similarity_graph"
      ],
      "metadata": {
        "id": "y4jH8ffCx6yW"
      },
      "execution_count": 7,
      "outputs": []
    },
    {
      "cell_type": "code",
      "source": [
        "x = np.ones(shape=(data_size,1))\n",
        "Q = np.dot(np.dot(x.T, L.todense()), x)\n",
        "Q.round(10)"
      ],
      "metadata": {
        "colab": {
          "base_uri": "https://localhost:8080/"
        },
        "id": "QlTlqKHVx8vm",
        "outputId": "55cee03a-c542-4d82-f852-8245d485f58b"
      },
      "execution_count": 8,
      "outputs": [
        {
          "output_type": "execute_result",
          "data": {
            "text/plain": [
              "array([[-1477.30855356]])"
            ]
          },
          "metadata": {},
          "execution_count": 8
        }
      ]
    },
    {
      "cell_type": "code",
      "source": [
        "# Finding eigen values and eigen vectors\n",
        "e, evecs = np.linalg.eig(L.todense())\n",
        "e.shape, evecs.shape\n",
        "# No. of eigen values equal to 0\n",
        "e_rounded_off = e.round(5)\n",
        "e_rounded_off[e_rounded_off == 0].shape\n",
        "# No. of connected components\n",
        "nx.connected_components(nx.graph)"
      ],
      "metadata": {
        "colab": {
          "base_uri": "https://localhost:8080/"
        },
        "id": "6KlB172dx-wW",
        "outputId": "717108cf-9cdd-4680-ee2d-d23380a3dfa6"
      },
      "execution_count": 9,
      "outputs": [
        {
          "output_type": "execute_result",
          "data": {
            "text/plain": [
              "<generator object connected_components at 0x7f168619fed0>"
            ]
          },
          "metadata": {},
          "execution_count": 9
        }
      ]
    },
    {
      "cell_type": "code",
      "source": [
        "\n",
        "# Get smallest non-zero eigen value's index for obtaining partition to cluster\n",
        "fiedler_index = sorted_indices\n",
        "\n",
        "# The eigen vector for smallest non-zero eigen value i.e plotting the Fiedler vector\n",
        "plt.figure(figsize=(8,6))\n",
        "plt.scatter(np.arange(data_size), evecs[:,fiedler_index].tolist())\n",
        "plt.title(\"Eigen (Fiedler) vector plot\")\n",
        "plt.show()\n",
        "fiedler_vector = evecs[:,fiedler_index].copy()\n",
        "\n",
        "# Thresholding the values in this eigen vector at 0\n",
        "fiedler_vector[fiedler_vector < 0.0] = 0\n",
        "fiedler_vector[fiedler_vector > 0.0] = 1\n",
        "new_labels = np.asarray(fiedler_vector)[:,0]\n",
        "# Plot cluster result\n",
        "plt.scatter(features[:,0], features[:,1], c=(150))\n",
        "plt.title(\"Clusters plot\")\n",
        "plt.show()"
      ],
      "metadata": {
        "colab": {
          "base_uri": "https://localhost:8080/",
          "height": 244
        },
        "id": "dJB8MkrIyA0s",
        "outputId": "0360c0e0-fa3e-46f0-eaed-f1989da370a6"
      },
      "execution_count": 10,
      "outputs": [
        {
          "output_type": "error",
          "ename": "NameError",
          "evalue": "ignored",
          "traceback": [
            "\u001b[0;31m---------------------------------------------------------------------------\u001b[0m",
            "\u001b[0;31mNameError\u001b[0m                                 Traceback (most recent call last)",
            "\u001b[0;32m<ipython-input-10-9bd65bf2a368>\u001b[0m in \u001b[0;36m<module>\u001b[0;34m\u001b[0m\n\u001b[1;32m      1\u001b[0m \u001b[0;31m# Get smallest non-zero eigen value's index for obtaining partition to cluster\u001b[0m\u001b[0;34m\u001b[0m\u001b[0;34m\u001b[0m\u001b[0;34m\u001b[0m\u001b[0m\n\u001b[0;32m----> 2\u001b[0;31m \u001b[0mfiedler_index\u001b[0m \u001b[0;34m=\u001b[0m \u001b[0msorted_indices\u001b[0m\u001b[0;34m\u001b[0m\u001b[0;34m\u001b[0m\u001b[0m\n\u001b[0m\u001b[1;32m      3\u001b[0m \u001b[0;34m\u001b[0m\u001b[0m\n\u001b[1;32m      4\u001b[0m \u001b[0;31m# The eigen vector for smallest non-zero eigen value i.e plotting the Fiedler vector\u001b[0m\u001b[0;34m\u001b[0m\u001b[0;34m\u001b[0m\u001b[0;34m\u001b[0m\u001b[0m\n\u001b[1;32m      5\u001b[0m \u001b[0mplt\u001b[0m\u001b[0;34m.\u001b[0m\u001b[0mfigure\u001b[0m\u001b[0;34m(\u001b[0m\u001b[0mfigsize\u001b[0m\u001b[0;34m=\u001b[0m\u001b[0;34m(\u001b[0m\u001b[0;36m8\u001b[0m\u001b[0;34m,\u001b[0m\u001b[0;36m6\u001b[0m\u001b[0;34m)\u001b[0m\u001b[0;34m)\u001b[0m\u001b[0;34m\u001b[0m\u001b[0;34m\u001b[0m\u001b[0m\n",
            "\u001b[0;31mNameError\u001b[0m: name 'sorted_indices' is not defined"
          ]
        }
      ]
    }
  ]
}